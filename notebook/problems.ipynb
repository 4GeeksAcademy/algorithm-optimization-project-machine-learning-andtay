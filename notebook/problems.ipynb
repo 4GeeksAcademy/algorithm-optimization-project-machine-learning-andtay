{
 "cells": [
  {
   "attachments": {},
   "cell_type": "markdown",
   "id": "27b09e13",
   "metadata": {},
   "source": [
    "# Optimization of Algorithms problems"
   ]
  },
  {
   "attachments": {},
   "cell_type": "markdown",
   "id": "ed05e9bf",
   "metadata": {},
   "source": [
    "## Exercise 1\n",
    "### Code Optimization for Text Processing\n",
    "\n",
    "You are provided with a text processing code to perform the following operations:\n",
    "\n",
    "1. Convert all text to lowercase.\n",
    "2. Remove punctuation marks.\n",
    "3. Count the frequency of each word.\n",
    "4. Show the 5 most common words.\n",
    "\n",
    "The code works, but it is inefficient and can be optimized. Your task is to identify areas that can be improved and rewrite those parts to make the code more efficient and readable."
   ]
  },
  {
   "cell_type": "code",
   "execution_count": 130,
   "id": "8467465b",
   "metadata": {},
   "outputs": [
    {
     "name": "stdout",
     "output_type": "stream",
     "text": [
      "'the': 5 times\n",
      "'of': 3 times\n",
      "'in': 2 times\n",
      "'a': 2 times\n",
      "'she': 2 times\n"
     ]
    }
   ],
   "source": [
    "import string\n",
    "\n",
    "def process_text(text):\n",
    "    # Text to lowercase\n",
    "    text = text.lower()\n",
    "\n",
    "    # Remove punctuation\n",
    "    for p in string.punctuation:\n",
    "        text = text.replace(p, \"\")\n",
    "\n",
    "    # Split text into words\n",
    "    words = text.split()\n",
    "\n",
    "    # Count frecuencies\n",
    "    frequencies = {}\n",
    "    for w in words:\n",
    "        if w in frequencies:\n",
    "            frequencies[w] += 1\n",
    "        else:\n",
    "            frequencies[w] = 1\n",
    "\n",
    "    sorted_frequencies = sorted(frequencies.items(), key = lambda x: x[1], reverse = True)\n",
    "\n",
    "    # Get 5 most-common words\n",
    "    top_5 = sorted_frequencies[:5]\n",
    "    \n",
    "    for w, frequency in top_5:\n",
    "        print(f\"'{w}': {frequency} times\")\n",
    "\n",
    "text = \"\"\"\n",
    "    In the heart of the city, Emily discovered a quaint little café, hidden away from the bustling streets. \n",
    "    The aroma of freshly baked pastries wafted through the air, drawing in passersby. As she sipped on her latte, \n",
    "    she noticed an old bookshelf filled with classics, creating a cozy atmosphere that made her lose track of time.\n",
    "\"\"\"\n",
    "process_text(text)"
   ]
  },
  {
   "cell_type": "markdown",
   "id": "29040779",
   "metadata": {},
   "source": [
    "Points to optimize:\n",
    "\n",
    "1. **Removal of punctuation marks**: Using `replace` in a loop can be inefficient, especially with long texts. Look for a more efficient way to remove punctuation marks.\n",
    "2. **Frequency count**: The code checks for the existence of each word in the dictionary and then updates its count. This can be done more efficiently with certain data structures in Python.\n",
    "3. **Sort and select:** Consider if there is a more direct or efficient way to get the 5 most frequent words without sorting all the words.\n",
    "4. **Modularity**: Break the code into smaller functions so that each one performs a specific task. This will not only optimize performance, but also make the code more readable and maintainable."
   ]
  },
  {
   "cell_type": "code",
   "execution_count": 131,
   "id": "baed4ff1",
   "metadata": {},
   "outputs": [
    {
     "name": "stdout",
     "output_type": "stream",
     "text": [
      "'the': 5 times\n",
      "'of': 3 times\n",
      "'in': 2 times\n",
      "'a': 2 times\n",
      "'she': 2 times\n"
     ]
    }
   ],
   "source": [
    "import string\n",
    "from collections import Counter\n",
    "# Clase\n",
    "def process_text(text):\n",
    "    # Text to lowercase\n",
    "    text = text.lower()\n",
    "\n",
    "    # Remove punctuation\n",
    "    for p in string.punctuation:\n",
    "        text = text.replace(p, \"\")\n",
    "    \n",
    "    # Split text into words [OK]\n",
    "    words = text.split()\n",
    "\n",
    "    translator = str.maketrans(\"\", \"\", string.punctuation)\n",
    "    text = text.translate(translator)\n",
    "    \n",
    "\n",
    "    # Count frecuencies [OK]\n",
    "    \n",
    "    frequencies = Counter(words)\n",
    "    # frequencies.most_common(5)\n",
    "    sorted_frequencies = sorted(frequencies.items(), key = lambda x: x[1], reverse = True)\n",
    "\n",
    "    # Get 5 most-common words\n",
    "    top_5 = sorted_frequencies[:5]\n",
    "    \n",
    "    for w, frequency in top_5:\n",
    "        print(f\"'{w}': {frequency} times\")\n",
    "\n",
    "text = \"\"\"\n",
    "    In the heart of the city, Emily discovered a quaint little café, hidden away from the bustling streets. \n",
    "    The aroma of freshly baked pastries wafted through the air, drawing in passersby. As she sipped on her latte, \n",
    "    she noticed an old bookshelf filled with classics, creating a cozy atmosphere that made her lose track of time.\n",
    "\"\"\"\n",
    "process_text(text)"
   ]
  },
  {
   "cell_type": "code",
   "execution_count": 132,
   "id": "6df0cb76",
   "metadata": {},
   "outputs": [],
   "source": [
    "import string\n",
    "import operator\n",
    "from collections import Counter\n",
    "import heapq\n",
    "import timeit\n",
    "import re # expresión regulares"
   ]
  },
  {
   "cell_type": "code",
   "execution_count": 133,
   "id": "57cd6641",
   "metadata": {},
   "outputs": [
    {
     "name": "stdout",
     "output_type": "stream",
     "text": [
      "'the': 5 times\n",
      "'of': 3 times\n",
      "'in': 2 times\n",
      "'a': 2 times\n",
      "'she': 2 times\n"
     ]
    }
   ],
   "source": [
    "# TODO\n",
    "def lower_text(text):\n",
    "    # Texto a minuscula\n",
    "    if any(c.isupper() for c in text):  # Si todo es minúscula no lo hagas\n",
    "        text = text.lower()\n",
    "    return text\n",
    "\n",
    "def delete_punctuation(text):\n",
    "    # Eliminación de puntuaciones\n",
    "    # for p in string.punctuation:\n",
    "    #     text = text.replace(p, \"\")\n",
    "    # Eliminar todos los caracteres de puntuación en una sola pasada\n",
    "    return re.sub(f\"[{re.escape(string.punctuation)}]\", \"\", text)\n",
    "def delete_punctuation1(text):\n",
    "    # es entre 5-10 veces más rápido que re.sub(), para patrones más complejos habría que comprobarlo\n",
    "    # pero para signos de puntuación es mejor translate()\n",
    "    translator = str.maketrans(\"\", \"\", string.punctuation)\n",
    "    return text.translate(translator)\n",
    "def count_freq(text):\n",
    "    words = text.split()\n",
    "    # Conteo de frecuencias, optimizado con Counter\n",
    "    # frequencies = {}\n",
    "    # for w in words:\n",
    "    #     if w in frequencies:\n",
    "    #         frequencies[w] += 1\n",
    "    #         print(\"Palabra:\",w)\n",
    "    #     else:\n",
    "    #         frequencies[w] = 1\n",
    "    #         print(\"Palabra:\",w)\n",
    "    return Counter(words)\n",
    "def top5(counter, n = 5):\n",
    "    # Top5 most_common function from Counter\n",
    "    return counter.most_common(n)\n",
    "def print_text(top5):\n",
    "    # Comprehension list with join\n",
    "    print(\"\\n\".join(f\"'{w}': {frequency} times\" for w, frequency in top5))\n",
    "def process_text(text):\n",
    "    text = lower_text(text)\n",
    "    text = delete_punctuation1(text)\n",
    "    counter = count_freq(text)\n",
    "    top_5 = top5(counter, 5)\n",
    "    print_text(top_5)\n",
    "    #Comentarios de optimización\n",
    "    # itemgetter(1) está optimizado en C (en memoria) por lo que es más óptimo, evita el overhead de una función lambda\n",
    "    #sorted_frequencies = sorted(counter.items(), key = lambda x: x[1], reverse = True)\n",
    "    ##sorted_frequencies = sorted(counter.items(), key = operator.itemgetter(1), reverse = True)\n",
    "\n",
    "\n",
    "    # counter.items() proporciona los pares (elemento, frecuencia), \n",
    "    # y key=lambda x: x[1] indica que queremos ordenar por la frecuencia\n",
    "    # x[1] como es una tupla estamos accediendo al segundo elemento\n",
    "    # top = heapq.nlargest(5, sorted_frequencies, key=lambda x: x[1])\n",
    "    # key, if provided, specifies a function of one argument that is used to extract a comparison key from each element in iterable\n",
    "    # operator.itemgetter(1) es implementado en C y evita la sobrecarga de una función lambda\n",
    "    ##top = heapq.nlargest(5, sorted_frequencies, key=operator.itemgetter(1))\n",
    "\n",
    "text = \"\"\"\n",
    "    In the heart of the city, Emily discovered a quaint little café, hidden away from the bustling streets. \n",
    "    The aroma of freshly baked pastries wafted through the air, drawing in passersby. As she sipped on her latte, \n",
    "    she noticed an old bookshelf filled with classics, creating a cozy atmosphere that made her lose track of time.\n",
    "\"\"\"\n",
    "process_text(text)"
   ]
  },
  {
   "cell_type": "code",
   "execution_count": 134,
   "id": "058966a9",
   "metadata": {},
   "outputs": [],
   "source": [
    "# Código 1: Usando un bucle for con múltiples print()\n",
    "def optimization_time(top):\n",
    "    def by_for():\n",
    "        for w, frequency in top:\n",
    "            print(f\"'{w}': {frequency} times\")\n",
    "\n",
    "    # Código 2: Usando join() para una sola llamada a print()\n",
    "    def by_join():\n",
    "        print(\"\\n\".join(f\"'{w}': {frequency} times\" for w, frequency in top))\n",
    "\n",
    "    # Medir tiempos\n",
    "    tiempo_for = timeit.timeit(by_for, number=1)\n",
    "    tiempo_join = timeit.timeit(by_join, number=1)\n",
    "\n",
    "    print(f\"\\nTiempo con for + múltiples print(): {tiempo_for:.8f} segundos\")\n",
    "    print(f\"Tiempo con '\\\\n'.join() + un solo print(): {tiempo_join:.8f} segundos\")\n"
   ]
  },
  {
   "attachments": {},
   "cell_type": "markdown",
   "id": "011996bc",
   "metadata": {},
   "source": [
    "## Exercise 2\n",
    "### Code Optimization for List Processing\n",
    "\n",
    "You have been given a code that performs operations on a list of numbers for:\n",
    "\n",
    "1. Filter out even numbers.\n",
    "2. Duplicate each number.\n",
    "3. Add all numbers.\n",
    "4. Check if the result is a prime number.\n",
    "\n",
    "The code provided achieves its goal, but it may be inefficient. Your task is to identify and improve the parts of the code to increase its efficiency."
   ]
  },
  {
   "cell_type": "code",
   "execution_count": 135,
   "id": "783d03a0",
   "metadata": {},
   "outputs": [
    {
     "name": "stdout",
     "output_type": "stream",
     "text": [
      "Result: 60, ¿Prime? No\n"
     ]
    }
   ],
   "source": [
    "import math\n",
    "\n",
    "def is_prime(n):\n",
    "    if n <= 1:\n",
    "        return False\n",
    "    for i in range(2, int(math.sqrt(n)) + 1):\n",
    "        if n % i == 0:\n",
    "            return False\n",
    "    return True\n",
    "\n",
    "def process_list(list_):\n",
    "    filtered_list = []\n",
    "    for num in list_:\n",
    "        if num % 2 == 0:\n",
    "            filtered_list.append(num)\n",
    "    \n",
    "    duplicate_list = []\n",
    "    for num in filtered_list:\n",
    "        duplicate_list.append(num * 2)\n",
    "        \n",
    "    sum = 0\n",
    "    for num in duplicate_list:\n",
    "        sum += num\n",
    "\n",
    "    prime = is_prime(sum)\n",
    "    \n",
    "    return sum, prime\n",
    "\n",
    "list_ = [1, 2, 3, 4, 5, 6, 7, 8, 9, 10]\n",
    "result, result_prime = process_list(list_)\n",
    "print(f\"Result: {result}, ¿Prime? {'Yes' if result_prime else 'No'}\")"
   ]
  },
  {
   "cell_type": "markdown",
   "id": "128d564e",
   "metadata": {},
   "source": [
    "Points to optimize:\n",
    "\n",
    "1. **Filter numbers**: The code goes through the original list to filter out even numbers. Consider a more efficient way to filter the list.\n",
    "2. **Duplication**: The list is traversed multiple times. Is there a way to do this more efficiently?\n",
    "3. **Summing**: The numbers in a list are summed through a loop. Python has built-in functions that can optimize this.\n",
    "4. **Function `is_prime`**: While this function is relatively efficient, investigate if there are ways to make it even faster.\n",
    "5. **Modularity**: Consider breaking the code into smaller functions, each focused on a specific task."
   ]
  },
  {
   "cell_type": "code",
   "execution_count": 136,
   "id": "f40e35d6",
   "metadata": {},
   "outputs": [
    {
     "name": "stdout",
     "output_type": "stream",
     "text": [
      "Fuera duplicado [4, 8, 12, 16, 20]\n"
     ]
    },
    {
     "ename": "RecursionError",
     "evalue": "maximum recursion depth exceeded in comparison",
     "output_type": "error",
     "traceback": [
      "\u001b[0;31m---------------------------------------------------------------------------\u001b[0m",
      "\u001b[0;31mRecursionError\u001b[0m                            Traceback (most recent call last)",
      "Cell \u001b[0;32mIn[136], line 27\u001b[0m\n\u001b[1;32m     25\u001b[0m \u001b[38;5;28;01mdef\u001b[39;00m\u001b[38;5;250m \u001b[39m\u001b[38;5;21msum_duplicate\u001b[39m(duplicate_list):\n\u001b[1;32m     26\u001b[0m     \u001b[38;5;28;01mreturn\u001b[39;00m \u001b[38;5;28msum\u001b[39m(duplicate_list)\n\u001b[0;32m---> 27\u001b[0m \u001b[38;5;28mprint\u001b[39m(\u001b[38;5;124m\"\u001b[39m\u001b[38;5;124mSum fuera:\u001b[39m\u001b[38;5;124m\"\u001b[39m, \u001b[43msum_duplicate\u001b[49m\u001b[43m(\u001b[49m\u001b[43mduplicado\u001b[49m\u001b[43m)\u001b[49m)\n\u001b[1;32m     28\u001b[0m \u001b[38;5;66;03m##\u001b[39;00m\n\u001b[1;32m     29\u001b[0m \u001b[38;5;28;01mdef\u001b[39;00m\u001b[38;5;250m \u001b[39m\u001b[38;5;21mprocess_list\u001b[39m(list_):\n",
      "Cell \u001b[0;32mIn[136], line 26\u001b[0m, in \u001b[0;36msum_duplicate\u001b[0;34m(duplicate_list)\u001b[0m\n\u001b[1;32m     25\u001b[0m \u001b[38;5;28;01mdef\u001b[39;00m\u001b[38;5;250m \u001b[39m\u001b[38;5;21msum_duplicate\u001b[39m(duplicate_list):\n\u001b[0;32m---> 26\u001b[0m     \u001b[38;5;28;01mreturn\u001b[39;00m \u001b[38;5;28;43msum\u001b[39;49m\u001b[43m(\u001b[49m\u001b[43mduplicate_list\u001b[49m\u001b[43m)\u001b[49m\n",
      "Cell \u001b[0;32mIn[20], line 25\u001b[0m, in \u001b[0;36msum\u001b[0;34m(duplicate_list)\u001b[0m\n\u001b[1;32m     24\u001b[0m \u001b[38;5;28;01mdef\u001b[39;00m\u001b[38;5;250m \u001b[39m\u001b[38;5;21msum\u001b[39m(duplicate_list):\n\u001b[0;32m---> 25\u001b[0m     \u001b[38;5;28;01mreturn\u001b[39;00m \u001b[38;5;28;43msum\u001b[39;49m\u001b[43m(\u001b[49m\u001b[43mCounter\u001b[49m\u001b[43m(\u001b[49m\u001b[43mduplicate_list\u001b[49m\u001b[43m)\u001b[49m\u001b[38;5;241;43m.\u001b[39;49m\u001b[43mvalues\u001b[49m\u001b[43m(\u001b[49m\u001b[43m)\u001b[49m\u001b[43m)\u001b[49m\n",
      "Cell \u001b[0;32mIn[20], line 25\u001b[0m, in \u001b[0;36msum\u001b[0;34m(duplicate_list)\u001b[0m\n\u001b[1;32m     24\u001b[0m \u001b[38;5;28;01mdef\u001b[39;00m\u001b[38;5;250m \u001b[39m\u001b[38;5;21msum\u001b[39m(duplicate_list):\n\u001b[0;32m---> 25\u001b[0m     \u001b[38;5;28;01mreturn\u001b[39;00m \u001b[38;5;28;43msum\u001b[39;49m\u001b[43m(\u001b[49m\u001b[43mCounter\u001b[49m\u001b[43m(\u001b[49m\u001b[43mduplicate_list\u001b[49m\u001b[43m)\u001b[49m\u001b[38;5;241;43m.\u001b[39;49m\u001b[43mvalues\u001b[49m\u001b[43m(\u001b[49m\u001b[43m)\u001b[49m\u001b[43m)\u001b[49m\n",
      "    \u001b[0;31m[... skipping similar frames: sum at line 25 (2963 times)]\u001b[0m\n",
      "Cell \u001b[0;32mIn[20], line 25\u001b[0m, in \u001b[0;36msum\u001b[0;34m(duplicate_list)\u001b[0m\n\u001b[1;32m     24\u001b[0m \u001b[38;5;28;01mdef\u001b[39;00m\u001b[38;5;250m \u001b[39m\u001b[38;5;21msum\u001b[39m(duplicate_list):\n\u001b[0;32m---> 25\u001b[0m     \u001b[38;5;28;01mreturn\u001b[39;00m \u001b[38;5;28msum\u001b[39m(\u001b[43mCounter\u001b[49m\u001b[43m(\u001b[49m\u001b[43mduplicate_list\u001b[49m\u001b[43m)\u001b[49m\u001b[38;5;241m.\u001b[39mvalues())\n",
      "File \u001b[0;32m/usr/local/lib/python3.11/collections/__init__.py:597\u001b[0m, in \u001b[0;36mCounter.__init__\u001b[0;34m(self, iterable, **kwds)\u001b[0m\n\u001b[1;32m    586\u001b[0m \u001b[38;5;250m\u001b[39m\u001b[38;5;124;03m'''Create a new, empty Counter object.  And if given, count elements\u001b[39;00m\n\u001b[1;32m    587\u001b[0m \u001b[38;5;124;03mfrom an input iterable.  Or, initialize the count from another mapping\u001b[39;00m\n\u001b[1;32m    588\u001b[0m \u001b[38;5;124;03mof elements to their counts.\u001b[39;00m\n\u001b[0;32m   (...)\u001b[0m\n\u001b[1;32m    594\u001b[0m \n\u001b[1;32m    595\u001b[0m \u001b[38;5;124;03m'''\u001b[39;00m\n\u001b[1;32m    596\u001b[0m \u001b[38;5;28msuper\u001b[39m()\u001b[38;5;241m.\u001b[39m\u001b[38;5;21m__init__\u001b[39m()\n\u001b[0;32m--> 597\u001b[0m \u001b[38;5;28;43mself\u001b[39;49m\u001b[38;5;241;43m.\u001b[39;49m\u001b[43mupdate\u001b[49m\u001b[43m(\u001b[49m\u001b[43miterable\u001b[49m\u001b[43m,\u001b[49m\u001b[43m \u001b[49m\u001b[38;5;241;43m*\u001b[39;49m\u001b[38;5;241;43m*\u001b[39;49m\u001b[43mkwds\u001b[49m\u001b[43m)\u001b[49m\n",
      "File \u001b[0;32m/usr/local/lib/python3.11/collections/__init__.py:679\u001b[0m, in \u001b[0;36mCounter.update\u001b[0;34m(self, iterable, **kwds)\u001b[0m\n\u001b[1;32m    671\u001b[0m \u001b[38;5;66;03m# The regular dict.update() operation makes no sense here because the\u001b[39;00m\n\u001b[1;32m    672\u001b[0m \u001b[38;5;66;03m# replace behavior results in the some of original untouched counts\u001b[39;00m\n\u001b[1;32m    673\u001b[0m \u001b[38;5;66;03m# being mixed-in with all of the other counts for a mismash that\u001b[39;00m\n\u001b[1;32m    674\u001b[0m \u001b[38;5;66;03m# doesn't have a straight-forward interpretation in most counting\u001b[39;00m\n\u001b[1;32m    675\u001b[0m \u001b[38;5;66;03m# contexts.  Instead, we implement straight-addition.  Both the inputs\u001b[39;00m\n\u001b[1;32m    676\u001b[0m \u001b[38;5;66;03m# and outputs are allowed to contain zero and negative counts.\u001b[39;00m\n\u001b[1;32m    678\u001b[0m \u001b[38;5;28;01mif\u001b[39;00m iterable \u001b[38;5;129;01mis\u001b[39;00m \u001b[38;5;129;01mnot\u001b[39;00m \u001b[38;5;28;01mNone\u001b[39;00m:\n\u001b[0;32m--> 679\u001b[0m     \u001b[38;5;28;01mif\u001b[39;00m \u001b[38;5;28misinstance\u001b[39m(iterable, _collections_abc\u001b[38;5;241m.\u001b[39mMapping):\n\u001b[1;32m    680\u001b[0m         \u001b[38;5;28;01mif\u001b[39;00m \u001b[38;5;28mself\u001b[39m:\n\u001b[1;32m    681\u001b[0m             self_get \u001b[38;5;241m=\u001b[39m \u001b[38;5;28mself\u001b[39m\u001b[38;5;241m.\u001b[39mget\n",
      "File \u001b[0;32m<frozen abc>:119\u001b[0m, in \u001b[0;36m__instancecheck__\u001b[0;34m(cls, instance)\u001b[0m\n",
      "\u001b[0;31mRecursionError\u001b[0m: maximum recursion depth exceeded in comparison"
     ]
    }
   ],
   "source": [
    "# TODO\n",
    "import math\n",
    "import numpy as np\n",
    "\n",
    "def is_prime(n):\n",
    "    # if n <= 1:\n",
    "    #     return False\n",
    "    # for i in range(2, int(math.sqrt(n)) + 1):\n",
    "    #     if n % i == 0:\n",
    "    #         return False\n",
    "    # all() comprueba si todos los elementos de un iterable son True\n",
    "    return all(n % i != 0 for i in range(2, int(math.sqrt(n)) + 1)) and n > 1\n",
    "##\n",
    "def filter_list(list):\n",
    "    # filtrado en un list\n",
    "    return [num for num in list if num % 2 == 0]\n",
    "list = [1, 2, 3, 4, 5, 6, 7, 8, 9, 10]\n",
    "filtrado = filter_list(list)\n",
    "\n",
    "def duplicate_list(filtered_list):\n",
    "    return [num*2 for num in filtered_list]\n",
    "duplicado = duplicate_list(filtrado)\n",
    "print(\"Fuera duplicado\",duplicado)\n",
    "\n",
    "def sum_duplicate(duplicate_list):\n",
    "    return sum(duplicate_list)\n",
    "print(\"Sum fuera:\", sum_duplicate(duplicado))\n",
    "##\n",
    "def process_list(list_):\n",
    "    filtered_list = []\n",
    "    for num in list_:\n",
    "        if num % 2 == 0:\n",
    "            filtered_list.append(num)\n",
    "    print(\"Filtered_List dentro\", filtered_list)\n",
    "    duplicate_list = []\n",
    "    for num in filtered_list:\n",
    "        duplicate_list.append(num * 2)\n",
    "    print(\"Duplicado dentro:\", duplicate_list)\n",
    "\n",
    "    sum = 0\n",
    "    for num in duplicate_list:\n",
    "        sum += num\n",
    "    print(\"Sum Dentro:\", sum)\n",
    "    prime = is_prime(sum)\n",
    "    \n",
    "    return sum, prime\n",
    "\n",
    "list_ = [1, 2, 3, 4, 5, 6, 7, 8, 9, 10]\n",
    "result, result_prime = process_list(list_)\n",
    "print(f\"Result: {result}, ¿Prime? {'Yes' if result_prime else 'No'}\")"
   ]
  },
  {
   "attachments": {},
   "cell_type": "markdown",
   "id": "1af70806",
   "metadata": {},
   "source": [
    "Both exercises will help you improve your code performance optimization skills and give you a better understanding of how different data structures and programming techniques can affect the efficiency of your code."
   ]
  }
 ],
 "metadata": {
  "kernelspec": {
   "display_name": "Python 3",
   "language": "python",
   "name": "python3"
  },
  "language_info": {
   "codemirror_mode": {
    "name": "ipython",
    "version": 3
   },
   "file_extension": ".py",
   "mimetype": "text/x-python",
   "name": "python",
   "nbconvert_exporter": "python",
   "pygments_lexer": "ipython3",
   "version": "3.11.4"
  }
 },
 "nbformat": 4,
 "nbformat_minor": 5
}
